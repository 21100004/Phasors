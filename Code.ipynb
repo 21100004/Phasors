{
 "cells": [
  {
   "cell_type": "code",
   "execution_count": 1,
   "metadata": {},
   "outputs": [],
   "source": [
    "# Code that creates an object called Phasor, which is defined by\n",
    "# two parameters: amplitude (measured in arbitrary units) and\n",
    "# phase (measured in degrees)\n",
    "\n",
    "class Phasor(object):\n",
    "    def __init__(self, amp, phase):\n",
    "        self.amp = amp\n",
    "        self.phase = phase*(numpy.pi/180)\n",
    "    def getH(self):\n",
    "        return numpy.cos(self.phase)*self.amp\n",
    "    def getV(self):\n",
    "        return numpy.sin(self.phase)*self.amp\n",
    "    def getA(self):\n",
    "        return self.amp\n",
    "    def getP(self):\n",
    "        return self.phase"
   ]
  },
  {
   "cell_type": "code",
   "execution_count": 2,
   "metadata": {},
   "outputs": [],
   "source": [
    "# The function that creates a specified number (num) of Phasors and\n",
    "# returns a list containing them\n",
    "\n",
    "def makePhasors(num):\n",
    "    phasors = []\n",
    "    for i in range(num):\n",
    "        s1 = \"\"\n",
    "        while (\" \"<=s1<=\".\" or s1==\"/\" or \":\"<=s1<=\"?\" or \"A\"<=s1<=\"~\" or\n",
    "        s1==\"\"):\n",
    "            s1 = input(\"Amplitude \"+str(i+1)+\" (To quit, enter @): \")\n",
    "            print(\"\")\n",
    "            if s1==\"@\":\n",
    "                break\n",
    "        if s1==\"@\":\n",
    "            break\n",
    "        s1 = float(s1)\n",
    "        s2 = \"\"\n",
    "        while (\" \"<=s2<=\",\" or \".\"<=s2<=\"/\" or \":\"<=s2<=\"?\" or \"A\"<=s2<=\"~\" or\n",
    "        s2==\"\"):\n",
    "            s2 = input(\"Phase \"+str(i+1)+\" (To quit, enter @): \")\n",
    "            print(\"\")\n",
    "            if s2==\"@\":\n",
    "                break\n",
    "        if s2==\"@\":\n",
    "            break\n",
    "        s2 = float(s2)\n",
    "        phasors.append(Phasor(s1, s2))\n",
    "    return phasors"
   ]
  },
  {
   "cell_type": "code",
   "execution_count": 3,
   "metadata": {},
   "outputs": [],
   "source": [
    "# The function that draws all the Phasors in the list phasors on\n",
    "# a single diagram\n",
    "\n",
    "def drawPhasors(phasors):\n",
    "    x = numpy.zeros([1, len(phasors)+1])\n",
    "    y = numpy.zeros([1, len(phasors)+1])\n",
    "    u = numpy.zeros([1, len(phasors)+1])\n",
    "    v = numpy.zeros([1, len(phasors)+1])\n",
    "    for i in range(len(phasors)):\n",
    "        u[0][i+1] = phasors[i].getH()\n",
    "        v[0][i+1] = phasors[i].getV()\n",
    "    plt.quiver(x, y, u, v, angles = \"xy\", scale_units = \"xy\", scale = 1)\n",
    "    plt.title(\"Phasors\")\n",
    "    plt.plot([0], [0], \"ok\")\n",
    "    plt.xlim(u.min()-1, u.max()+1)\n",
    "    plt.ylim(v.min()-1, v.max()+1)\n",
    "    plt.show()"
   ]
  },
  {
   "cell_type": "code",
   "execution_count": 4,
   "metadata": {},
   "outputs": [],
   "source": [
    "# The function that shows the head-to-tail addition of all the Phasors\n",
    "# in the list phasors\n",
    "\n",
    "def addPhasors(phasors):\n",
    "    x = numpy.zeros([1, len(phasors)])\n",
    "    y = numpy.zeros([1, len(phasors)])\n",
    "    u = numpy.zeros([1, len(phasors)])\n",
    "    v = numpy.zeros([1, len(phasors)])\n",
    "    xRes = numpy.zeros([1, len(phasors)+1])\n",
    "    yRes = numpy.zeros([1, len(phasors)+1])\n",
    "    xResVar = 0\n",
    "    yResVar = 0\n",
    "    for i in range(len(phasors)):\n",
    "        xResVar += phasors[i].getH()\n",
    "        yResVar += phasors[i].getV()\n",
    "        u[0][i] = phasors[i].getH()\n",
    "        v[0][i] = phasors[i].getV()\n",
    "        xRes[0][i+1] = xResVar\n",
    "        yRes[0][i+1] = yResVar\n",
    "    for i in range(len(phasors)-1):\n",
    "        x[0][i+1] = xRes[0][i+1]\n",
    "        y[0][i+1] = yRes[0][i+1]\n",
    "    plt.quiver(x, y, u, v, angles = \"xy\", scale_units = \"xy\", scale = 1)\n",
    "    plt.quiver([0], [0], xRes[0][-1], yRes[0][-1], color = [\"r\"], angles =\n",
    "               \"xy\", scale_units = \"xy\", scale = 1)\n",
    "    plt.title(\"Phasors\")\n",
    "    plt.plot([0], [0], \"ok\")\n",
    "    plt.plot(xRes[0][-1], yRes[0][-1], \"ok\")\n",
    "    plt.xlim(xRes.min()-1, xRes.max()+1)\n",
    "    plt.ylim(yRes.min()-1, yRes.max()+1)\n",
    "    plt.show()"
   ]
  },
  {
   "cell_type": "code",
   "execution_count": 5,
   "metadata": {},
   "outputs": [
    {
     "name": "stdout",
     "output_type": "stream",
     "text": [
      "Amplitude 1 (To quit, enter @): 2\n",
      "\n",
      "Phase 1 (To quit, enter @): 15\n",
      "\n",
      "Amplitude 2 (To quit, enter @): 2\n",
      "\n",
      "Phase 2 (To quit, enter @): 30\n",
      "\n",
      "Amplitude 3 (To quit, enter @): 2\n",
      "\n",
      "Phase 3 (To quit, enter @): 45\n",
      "\n",
      "Amplitude 4 (To quit, enter @): 2\n",
      "\n",
      "Phase 4 (To quit, enter @): 60\n",
      "\n"
     ]
    }
   ],
   "source": [
    "# Code that creates four Phasors and stores them in a list called phasors\n",
    "\n",
    "import numpy\n",
    "import matplotlib.pyplot as plt\n",
    "phasors = makePhasors(4)"
   ]
  },
  {
   "cell_type": "code",
   "execution_count": 6,
   "metadata": {},
   "outputs": [
    {
     "data": {
      "image/png": "[encoded data removed]",
      "text/plain": [
       "<matplotlib.figure.Figure at 0x1de32e3208>"
      ]
     },
     "metadata": {},
     "output_type": "display_data"
    }
   ],
   "source": [
    "# Code that draws all the Phasors in the list phasors on a single diagram\n",
    "\n",
    "drawPhasors(phasors)"
   ]
  },
  {
   "cell_type": "code",
   "execution_count": 7,
   "metadata": {},
   "outputs": [
    {
     "data": {
      "image/png": "[encoded data removed]",
      "text/plain": [
       "<matplotlib.figure.Figure at 0x1de3d63470>"
      ]
     },
     "metadata": {},
     "output_type": "display_data"
    }
   ],
   "source": [
    "# Code that shows the head-to-tail addition of all the Phasors in the list\n",
    "# phasors\n",
    "\n",
    "addPhasors(phasors)"
   ]
  }
 ],
 "metadata": {
  "kernelspec": {
   "display_name": "Python 3",
   "language": "python",
   "name": "python3"
  },
  "language_info": {
   "codemirror_mode": {
    "name": "ipython",
    "version": 3
   },
   "file_extension": ".py",
   "mimetype": "text/x-python",
   "name": "python",
   "nbconvert_exporter": "python",
   "pygments_lexer": "ipython3",
   "version": "3.6.4"
  }
 },
 "nbformat": 4,
 "nbformat_minor": 2
}
